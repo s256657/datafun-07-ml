{
 "cells": [
  {
   "cell_type": "markdown",
   "metadata": {},
   "source": [
    "# Introduction to Machine Learning\n",
    "\n",
    "Author: Craig Wilcox\n",
    "\n",
    "Link to GitHub repository: https://github.com/s256657/datafun-07-ml\n",
    "\n",
    "Purpose: This project will introduce machine learning be working through simple linear regression which is a type os supervised learning. We will build a model, make predeictions, visualize the data, then publish insights. This should be used for introduction and learning."
   ]
  }
 ],
 "metadata": {
  "kernelspec": {
   "display_name": ".venv",
   "language": "python",
   "name": "python3"
  },
  "language_info": {
   "name": "python",
   "version": "3.13.1"
  }
 },
 "nbformat": 4,
 "nbformat_minor": 2
}
